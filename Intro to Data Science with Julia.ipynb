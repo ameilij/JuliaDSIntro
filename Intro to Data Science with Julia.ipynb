{
 "cells": [
  {
   "cell_type": "markdown",
   "metadata": {},
   "source": [
    "# Getting Started with Data Science in Julia"
   ]
  },
  {
   "cell_type": "markdown",
   "metadata": {},
   "source": [
    "## What does your data look like?"
   ]
  },
  {
   "cell_type": "markdown",
   "metadata": {},
   "source": [
    "Before you can solve complex problems with data, you should have a firm grasp on what your data looks like.  Are your variables continuous or categorical?  What do the distributions look like?  Are there missing observations?  Are variables correlated?  All of these questions arise in the data science workflow, so it's helpful to know the answers from the start of your analysis.\n",
    "\n",
    "Let's start with loading the [**`Statistics`**](https://docs.julialang.org/en/latest/stdlib/Statistics/) package, which provides basic statistical operations like means, variances, etc.\n"
   ]
  },
  {
   "cell_type": "code",
   "execution_count": 1,
   "metadata": {},
   "outputs": [],
   "source": [
    "using Statistics"
   ]
  },
  {
   "cell_type": "markdown",
   "metadata": {},
   "source": [
    "You can examine the items that a package exports with the `names` function."
   ]
  },
  {
   "cell_type": "code",
   "execution_count": 2,
   "metadata": {},
   "outputs": [
    {
     "data": {
      "text/plain": [
       "14-element Array{Symbol,1}:\n",
       " :Statistics\n",
       " :cor\n",
       " :cov\n",
       " :mean\n",
       " :mean!\n",
       " :median\n",
       " :median!\n",
       " :middle\n",
       " :quantile\n",
       " :quantile!\n",
       " :std\n",
       " :stdm\n",
       " :var\n",
       " :varm"
      ]
     },
     "execution_count": 2,
     "metadata": {},
     "output_type": "execute_result"
    }
   ],
   "source": [
    "names(Statistics)"
   ]
  },
  {
   "cell_type": "markdown",
   "metadata": {},
   "source": [
    "To start, let us try some of the functions from **`Statistics`** on simulated data."
   ]
  },
  {
   "cell_type": "code",
   "execution_count": 3,
   "metadata": {},
   "outputs": [
    {
     "data": {
      "text/plain": [
       "3×3 Array{Float64,2}:\n",
       "  1.0       -0.084378   -0.162899\n",
       " -0.084378   1.0        -0.0856229\n",
       " -0.162899  -0.0856229   1.0"
      ]
     },
     "execution_count": 3,
     "metadata": {},
     "output_type": "execute_result"
    }
   ],
   "source": [
    "x = randn(100, 3)\n",
    "mean(x, dims=1)  # calculate over first dimension (column means)\n",
    "cor(x)  # correlation matrix  "
   ]
  },
  {
   "cell_type": "markdown",
   "metadata": {},
   "source": [
    "For a more realistic example, let us load some data from the **`RDatasets`** package, which has a large collection of datasets that get loaded as a `DataFrame`.  \n",
    "\n",
    "The [`\"iris\"` dataset](https://en.wikipedia.org/wiki/Iris_flower_data_set) is a collection of measurements for three different species of the iris flower: Iris Setosa, Iris Virginica, and Iris Versicolor (shown below).  The measurements consist of length and width of the petal and sepal (part underneath the flower)."
   ]
  },
  {
   "cell_type": "code",
   "execution_count": 4,
   "metadata": {},
   "outputs": [
    {
     "data": {
      "text/html": [
       "<table class=\"data-frame\"><thead><tr><th></th><th>SepalLength</th><th>SepalWidth</th><th>PetalLength</th><th>PetalWidth</th><th>Species</th></tr><tr><th></th><th>Float64</th><th>Float64</th><th>Float64</th><th>Float64</th><th>Categorical…</th></tr></thead><tbody><p>150 rows × 5 columns</p><tr><th>1</th><td>5.1</td><td>3.5</td><td>1.4</td><td>0.2</td><td>setosa</td></tr><tr><th>2</th><td>4.9</td><td>3.0</td><td>1.4</td><td>0.2</td><td>setosa</td></tr><tr><th>3</th><td>4.7</td><td>3.2</td><td>1.3</td><td>0.2</td><td>setosa</td></tr><tr><th>4</th><td>4.6</td><td>3.1</td><td>1.5</td><td>0.2</td><td>setosa</td></tr><tr><th>5</th><td>5.0</td><td>3.6</td><td>1.4</td><td>0.2</td><td>setosa</td></tr><tr><th>6</th><td>5.4</td><td>3.9</td><td>1.7</td><td>0.4</td><td>setosa</td></tr><tr><th>7</th><td>4.6</td><td>3.4</td><td>1.4</td><td>0.3</td><td>setosa</td></tr><tr><th>8</th><td>5.0</td><td>3.4</td><td>1.5</td><td>0.2</td><td>setosa</td></tr><tr><th>9</th><td>4.4</td><td>2.9</td><td>1.4</td><td>0.2</td><td>setosa</td></tr><tr><th>10</th><td>4.9</td><td>3.1</td><td>1.5</td><td>0.1</td><td>setosa</td></tr><tr><th>11</th><td>5.4</td><td>3.7</td><td>1.5</td><td>0.2</td><td>setosa</td></tr><tr><th>12</th><td>4.8</td><td>3.4</td><td>1.6</td><td>0.2</td><td>setosa</td></tr><tr><th>13</th><td>4.8</td><td>3.0</td><td>1.4</td><td>0.1</td><td>setosa</td></tr><tr><th>14</th><td>4.3</td><td>3.0</td><td>1.1</td><td>0.1</td><td>setosa</td></tr><tr><th>15</th><td>5.8</td><td>4.0</td><td>1.2</td><td>0.2</td><td>setosa</td></tr><tr><th>16</th><td>5.7</td><td>4.4</td><td>1.5</td><td>0.4</td><td>setosa</td></tr><tr><th>17</th><td>5.4</td><td>3.9</td><td>1.3</td><td>0.4</td><td>setosa</td></tr><tr><th>18</th><td>5.1</td><td>3.5</td><td>1.4</td><td>0.3</td><td>setosa</td></tr><tr><th>19</th><td>5.7</td><td>3.8</td><td>1.7</td><td>0.3</td><td>setosa</td></tr><tr><th>20</th><td>5.1</td><td>3.8</td><td>1.5</td><td>0.3</td><td>setosa</td></tr><tr><th>21</th><td>5.4</td><td>3.4</td><td>1.7</td><td>0.2</td><td>setosa</td></tr><tr><th>22</th><td>5.1</td><td>3.7</td><td>1.5</td><td>0.4</td><td>setosa</td></tr><tr><th>23</th><td>4.6</td><td>3.6</td><td>1.0</td><td>0.2</td><td>setosa</td></tr><tr><th>24</th><td>5.1</td><td>3.3</td><td>1.7</td><td>0.5</td><td>setosa</td></tr><tr><th>25</th><td>4.8</td><td>3.4</td><td>1.9</td><td>0.2</td><td>setosa</td></tr><tr><th>26</th><td>5.0</td><td>3.0</td><td>1.6</td><td>0.2</td><td>setosa</td></tr><tr><th>27</th><td>5.0</td><td>3.4</td><td>1.6</td><td>0.4</td><td>setosa</td></tr><tr><th>28</th><td>5.2</td><td>3.5</td><td>1.5</td><td>0.2</td><td>setosa</td></tr><tr><th>29</th><td>5.2</td><td>3.4</td><td>1.4</td><td>0.2</td><td>setosa</td></tr><tr><th>30</th><td>4.7</td><td>3.2</td><td>1.6</td><td>0.2</td><td>setosa</td></tr><tr><th>&vellip;</th><td>&vellip;</td><td>&vellip;</td><td>&vellip;</td><td>&vellip;</td><td>&vellip;</td></tr></tbody></table>"
      ],
      "text/latex": [
       "\\begin{tabular}{r|ccccc}\n",
       "\t& SepalLength & SepalWidth & PetalLength & PetalWidth & Species\\\\\n",
       "\t\\hline\n",
       "\t& Float64 & Float64 & Float64 & Float64 & Categorical…\\\\\n",
       "\t\\hline\n",
       "\t1 & 5.1 & 3.5 & 1.4 & 0.2 & setosa \\\\\n",
       "\t2 & 4.9 & 3.0 & 1.4 & 0.2 & setosa \\\\\n",
       "\t3 & 4.7 & 3.2 & 1.3 & 0.2 & setosa \\\\\n",
       "\t4 & 4.6 & 3.1 & 1.5 & 0.2 & setosa \\\\\n",
       "\t5 & 5.0 & 3.6 & 1.4 & 0.2 & setosa \\\\\n",
       "\t6 & 5.4 & 3.9 & 1.7 & 0.4 & setosa \\\\\n",
       "\t7 & 4.6 & 3.4 & 1.4 & 0.3 & setosa \\\\\n",
       "\t8 & 5.0 & 3.4 & 1.5 & 0.2 & setosa \\\\\n",
       "\t9 & 4.4 & 2.9 & 1.4 & 0.2 & setosa \\\\\n",
       "\t10 & 4.9 & 3.1 & 1.5 & 0.1 & setosa \\\\\n",
       "\t11 & 5.4 & 3.7 & 1.5 & 0.2 & setosa \\\\\n",
       "\t12 & 4.8 & 3.4 & 1.6 & 0.2 & setosa \\\\\n",
       "\t13 & 4.8 & 3.0 & 1.4 & 0.1 & setosa \\\\\n",
       "\t14 & 4.3 & 3.0 & 1.1 & 0.1 & setosa \\\\\n",
       "\t15 & 5.8 & 4.0 & 1.2 & 0.2 & setosa \\\\\n",
       "\t16 & 5.7 & 4.4 & 1.5 & 0.4 & setosa \\\\\n",
       "\t17 & 5.4 & 3.9 & 1.3 & 0.4 & setosa \\\\\n",
       "\t18 & 5.1 & 3.5 & 1.4 & 0.3 & setosa \\\\\n",
       "\t19 & 5.7 & 3.8 & 1.7 & 0.3 & setosa \\\\\n",
       "\t20 & 5.1 & 3.8 & 1.5 & 0.3 & setosa \\\\\n",
       "\t21 & 5.4 & 3.4 & 1.7 & 0.2 & setosa \\\\\n",
       "\t22 & 5.1 & 3.7 & 1.5 & 0.4 & setosa \\\\\n",
       "\t23 & 4.6 & 3.6 & 1.0 & 0.2 & setosa \\\\\n",
       "\t24 & 5.1 & 3.3 & 1.7 & 0.5 & setosa \\\\\n",
       "\t25 & 4.8 & 3.4 & 1.9 & 0.2 & setosa \\\\\n",
       "\t26 & 5.0 & 3.0 & 1.6 & 0.2 & setosa \\\\\n",
       "\t27 & 5.0 & 3.4 & 1.6 & 0.4 & setosa \\\\\n",
       "\t28 & 5.2 & 3.5 & 1.5 & 0.2 & setosa \\\\\n",
       "\t29 & 5.2 & 3.4 & 1.4 & 0.2 & setosa \\\\\n",
       "\t30 & 4.7 & 3.2 & 1.6 & 0.2 & setosa \\\\\n",
       "\t$\\dots$ & $\\dots$ & $\\dots$ & $\\dots$ & $\\dots$ & $\\dots$ \\\\\n",
       "\\end{tabular}\n"
      ],
      "text/plain": [
       "150×5 DataFrame\n",
       "│ Row │ SepalLength │ SepalWidth │ PetalLength │ PetalWidth │ Species      │\n",
       "│     │ \u001b[90mFloat64\u001b[39m     │ \u001b[90mFloat64\u001b[39m    │ \u001b[90mFloat64\u001b[39m     │ \u001b[90mFloat64\u001b[39m    │ \u001b[90mCategorical…\u001b[39m │\n",
       "├─────┼─────────────┼────────────┼─────────────┼────────────┼──────────────┤\n",
       "│ 1   │ 5.1         │ 3.5        │ 1.4         │ 0.2        │ setosa       │\n",
       "│ 2   │ 4.9         │ 3.0        │ 1.4         │ 0.2        │ setosa       │\n",
       "│ 3   │ 4.7         │ 3.2        │ 1.3         │ 0.2        │ setosa       │\n",
       "│ 4   │ 4.6         │ 3.1        │ 1.5         │ 0.2        │ setosa       │\n",
       "│ 5   │ 5.0         │ 3.6        │ 1.4         │ 0.2        │ setosa       │\n",
       "│ 6   │ 5.4         │ 3.9        │ 1.7         │ 0.4        │ setosa       │\n",
       "│ 7   │ 4.6         │ 3.4        │ 1.4         │ 0.3        │ setosa       │\n",
       "│ 8   │ 5.0         │ 3.4        │ 1.5         │ 0.2        │ setosa       │\n",
       "│ 9   │ 4.4         │ 2.9        │ 1.4         │ 0.2        │ setosa       │\n",
       "│ 10  │ 4.9         │ 3.1        │ 1.5         │ 0.1        │ setosa       │\n",
       "⋮\n",
       "│ 140 │ 6.9         │ 3.1        │ 5.4         │ 2.1        │ virginica    │\n",
       "│ 141 │ 6.7         │ 3.1        │ 5.6         │ 2.4        │ virginica    │\n",
       "│ 142 │ 6.9         │ 3.1        │ 5.1         │ 2.3        │ virginica    │\n",
       "│ 143 │ 5.8         │ 2.7        │ 5.1         │ 1.9        │ virginica    │\n",
       "│ 144 │ 6.8         │ 3.2        │ 5.9         │ 2.3        │ virginica    │\n",
       "│ 145 │ 6.7         │ 3.3        │ 5.7         │ 2.5        │ virginica    │\n",
       "│ 146 │ 6.7         │ 3.0        │ 5.2         │ 2.3        │ virginica    │\n",
       "│ 147 │ 6.3         │ 2.5        │ 5.0         │ 1.9        │ virginica    │\n",
       "│ 148 │ 6.5         │ 3.0        │ 5.2         │ 2.0        │ virginica    │\n",
       "│ 149 │ 6.2         │ 3.4        │ 5.4         │ 2.3        │ virginica    │\n",
       "│ 150 │ 5.9         │ 3.0        │ 5.1         │ 1.8        │ virginica    │"
      ]
     },
     "execution_count": 4,
     "metadata": {},
     "output_type": "execute_result"
    }
   ],
   "source": [
    "using RDatasets\n",
    "iris = dataset(\"datasets\", \"iris\")"
   ]
  },
  {
   "cell_type": "markdown",
   "metadata": {},
   "source": [
    "DataFrames are discussed in another course module.  For now, we'll just use the fact that data vectors from the DataFrame can be selected with `mydf.mycol`:"
   ]
  },
  {
   "cell_type": "code",
   "execution_count": 5,
   "metadata": {},
   "outputs": [
    {
     "data": {
      "text/plain": [
       "150-element Array{Float64,1}:\n",
       " 5.1\n",
       " 4.9\n",
       " 4.7\n",
       " 4.6\n",
       " 5.0\n",
       " 5.4\n",
       " 4.6\n",
       " 5.0\n",
       " 4.4\n",
       " 4.9\n",
       " 5.4\n",
       " 4.8\n",
       " 4.8\n",
       " ⋮\n",
       " 6.0\n",
       " 6.9\n",
       " 6.7\n",
       " 6.9\n",
       " 5.8\n",
       " 6.8\n",
       " 6.7\n",
       " 6.7\n",
       " 6.3\n",
       " 6.5\n",
       " 6.2\n",
       " 5.9"
      ]
     },
     "execution_count": 5,
     "metadata": {},
     "output_type": "execute_result"
    }
   ],
   "source": [
    "iris.SepalLength"
   ]
  },
  {
   "cell_type": "markdown",
   "metadata": {},
   "source": [
    "What is the average sepal width across all three species?"
   ]
  },
  {
   "cell_type": "code",
   "execution_count": 6,
   "metadata": {},
   "outputs": [
    {
     "data": {
      "text/plain": [
       "3.0573333333333337"
      ]
     },
     "execution_count": 6,
     "metadata": {},
     "output_type": "execute_result"
    }
   ],
   "source": [
    "mean(iris.SepalWidth)"
   ]
  },
  {
   "cell_type": "markdown",
   "metadata": {},
   "source": [
    "Maximum and minimum?"
   ]
  },
  {
   "cell_type": "code",
   "execution_count": 7,
   "metadata": {},
   "outputs": [
    {
     "name": "stdout",
     "output_type": "stream",
     "text": [
      "minimum(iris.SepalWidth) = 2.0\n",
      "maximum(iris.SepalWidth) = 4.4\n"
     ]
    },
    {
     "data": {
      "text/plain": [
       "(2.0, 4.4)"
      ]
     },
     "execution_count": 7,
     "metadata": {},
     "output_type": "execute_result"
    }
   ],
   "source": [
    "@show minimum(iris.SepalWidth)\n",
    "@show maximum(iris.SepalWidth)\n",
    "extrema(iris.SepalWidth)"
   ]
  },
  {
   "cell_type": "markdown",
   "metadata": {},
   "source": [
    "Is petal width correlated with petal length?"
   ]
  },
  {
   "cell_type": "code",
   "execution_count": 8,
   "metadata": {},
   "outputs": [
    {
     "data": {
      "text/plain": [
       "0.9628654314027961"
      ]
     },
     "execution_count": 8,
     "metadata": {},
     "output_type": "execute_result"
    }
   ],
   "source": [
    "cor(iris.PetalWidth, iris.PetalLength)"
   ]
  },
  {
   "cell_type": "markdown",
   "metadata": {},
   "source": [
    "While we could examine each column separately, a much quicker way to summarize our variables is with the `describe` function:"
   ]
  },
  {
   "cell_type": "code",
   "execution_count": 9,
   "metadata": {},
   "outputs": [
    {
     "data": {
      "text/html": [
       "<table class=\"data-frame\"><thead><tr><th></th><th>variable</th><th>mean</th><th>min</th><th>median</th><th>max</th><th>nunique</th><th>nmissing</th><th>eltype</th></tr><tr><th></th><th>Symbol</th><th>Union…</th><th>Any</th><th>Union…</th><th>Any</th><th>Union…</th><th>Nothing</th><th>DataType</th></tr></thead><tbody><p>5 rows × 8 columns</p><tr><th>1</th><td>SepalLength</td><td>5.84333</td><td>4.3</td><td>5.8</td><td>7.9</td><td></td><td></td><td>Float64</td></tr><tr><th>2</th><td>SepalWidth</td><td>3.05733</td><td>2.0</td><td>3.0</td><td>4.4</td><td></td><td></td><td>Float64</td></tr><tr><th>3</th><td>PetalLength</td><td>3.758</td><td>1.0</td><td>4.35</td><td>6.9</td><td></td><td></td><td>Float64</td></tr><tr><th>4</th><td>PetalWidth</td><td>1.19933</td><td>0.1</td><td>1.3</td><td>2.5</td><td></td><td></td><td>Float64</td></tr><tr><th>5</th><td>Species</td><td></td><td>setosa</td><td></td><td>virginica</td><td>3</td><td></td><td>CategoricalString{UInt8}</td></tr></tbody></table>"
      ],
      "text/latex": [
       "\\begin{tabular}{r|cccccccc}\n",
       "\t& variable & mean & min & median & max & nunique & nmissing & eltype\\\\\n",
       "\t\\hline\n",
       "\t& Symbol & Union… & Any & Union… & Any & Union… & Nothing & DataType\\\\\n",
       "\t\\hline\n",
       "\t1 & SepalLength & 5.84333 & 4.3 & 5.8 & 7.9 &  &  & Float64 \\\\\n",
       "\t2 & SepalWidth & 3.05733 & 2.0 & 3.0 & 4.4 &  &  & Float64 \\\\\n",
       "\t3 & PetalLength & 3.758 & 1.0 & 4.35 & 6.9 &  &  & Float64 \\\\\n",
       "\t4 & PetalWidth & 1.19933 & 0.1 & 1.3 & 2.5 &  &  & Float64 \\\\\n",
       "\t5 & Species &  & setosa &  & virginica & 3 &  & CategoricalString\\{UInt8\\} \\\\\n",
       "\\end{tabular}\n"
      ],
      "text/plain": [
       "5×8 DataFrame. Omitted printing of 2 columns\n",
       "│ Row │ variable    │ mean    │ min    │ median │ max       │ nunique │\n",
       "│     │ \u001b[90mSymbol\u001b[39m      │ \u001b[90mUnion…\u001b[39m  │ \u001b[90mAny\u001b[39m    │ \u001b[90mUnion…\u001b[39m │ \u001b[90mAny\u001b[39m       │ \u001b[90mUnion…\u001b[39m  │\n",
       "├─────┼─────────────┼─────────┼────────┼────────┼───────────┼─────────┤\n",
       "│ 1   │ SepalLength │ 5.84333 │ 4.3    │ 5.8    │ 7.9       │         │\n",
       "│ 2   │ SepalWidth  │ 3.05733 │ 2.0    │ 3.0    │ 4.4       │         │\n",
       "│ 3   │ PetalLength │ 3.758   │ 1.0    │ 4.35   │ 6.9       │         │\n",
       "│ 4   │ PetalWidth  │ 1.19933 │ 0.1    │ 1.3    │ 2.5       │         │\n",
       "│ 5   │ Species     │         │ setosa │        │ virginica │ 3       │"
      ]
     },
     "execution_count": 9,
     "metadata": {},
     "output_type": "execute_result"
    }
   ],
   "source": [
    "describe(iris)"
   ]
  },
  {
   "cell_type": "markdown",
   "metadata": {},
   "source": [
    "## Random Sampling"
   ]
  },
  {
   "cell_type": "markdown",
   "metadata": {},
   "source": [
    "[Random Sampling](https://en.wikipedia.org/wiki/Sampling_(statistics)) plays an integral part in many data science tasks, such as:\n",
    "- Splitting data into multiple datasets for [cross validation](https://en.wikipedia.org/wiki/Cross-validation_(statistics)).\n",
    "- Subsampling a large dataset to something more manageable.\n",
    "- Running statistical simulations. [Statistical Bootstrap](https://en.wikipedia.org/wiki/Bootstrapping_(statistics))"
   ]
  },
  {
   "cell_type": "markdown",
   "metadata": {},
   "source": [
    "The **`StatsBase`** package has the `sample` function to factilitate sampling [with or without replacement](https://en.wikipedia.org/wiki/Sampling_(statistics)#Replacement_of_selected_units).\n",
    "\n",
    "Imagine you had a bag with 20 numbers in it.\n",
    "\n",
    "Sampling with replacement means that you put the number you drew back into the bag before the next draw. Just like rolling a dice, each draw is _independent_ and a given number might get drawn again.\n",
    "\n",
    "On the other hand, if you were to _not_ put the drawn number back in the bag, that would be representative of sampling without replacement.Each draw is _dependent_ upon all previous draws as those numbers are no longer available for selection.\n",
    "\n",
    "For bootstrapping and statistical simulations, it's typical to use sampling with replacement. While the two behave nearly the same if the sample is a very small fraction of the overall population, it becomes important to sample without replacement if the sample is large or if using uneven importance weights."
   ]
  },
  {
   "cell_type": "code",
   "execution_count": 11,
   "metadata": {},
   "outputs": [
    {
     "name": "stderr",
     "output_type": "stream",
     "text": [
      "\u001b[32m\u001b[1m   Updating\u001b[22m\u001b[39m registry at `/srv/julia/pkg/registries/General`\n"
     ]
    },
    {
     "name": "stdout",
     "output_type": "stream",
     "text": [
      "\u001b[?25l    "
     ]
    },
    {
     "name": "stderr",
     "output_type": "stream",
     "text": [
      "\u001b[32m\u001b[1m   Updating\u001b[22m\u001b[39m git-repo `https://github.com/JuliaRegistries/General.git`\n"
     ]
    },
    {
     "name": "stdout",
     "output_type": "stream",
     "text": [
      "    \u001b[36m\u001b[1mFetching:\u001b[22m\u001b[39m [\u001b[2K\u001b[?25h[1mFetching:\u001b[22m\u001b[39m [========================================>]  99.9 %"
     ]
    },
    {
     "name": "stderr",
     "output_type": "stream",
     "text": [
      "\u001b[32m\u001b[1m  Resolving\u001b[22m\u001b[39m package versions...\n",
      "\u001b[32m\u001b[1m   Updating\u001b[22m\u001b[39m `~/Project.toml`\n",
      " \u001b[90m [2913bbd2]\u001b[39m\u001b[92m + StatsBase v0.32.2\u001b[39m\n",
      "\u001b[32m\u001b[1m   Updating\u001b[22m\u001b[39m `~/Manifest.toml`\n",
      "\u001b[90m [no changes]\u001b[39m\n"
     ]
    },
    {
     "data": {
      "text/plain": [
       "20-element Array{Int64,1}:\n",
       " 16\n",
       " 11\n",
       "  5\n",
       " 10\n",
       " 19\n",
       " 12\n",
       " 13\n",
       "  8\n",
       " 14\n",
       " 17\n",
       "  9\n",
       " 15\n",
       " 18\n",
       " 20\n",
       "  3\n",
       "  4\n",
       "  7\n",
       "  2\n",
       "  1\n",
       "  6"
      ]
     },
     "execution_count": 11,
     "metadata": {},
     "output_type": "execute_result"
    }
   ],
   "source": [
    "import Pkg; Pkg.add(\"StatsBase\")\n",
    "using StatsBase\n",
    "y1 = sample(1:20, 20, replace=true)  # replaces units after being selected\n",
    "\n",
    "y2 = sample(1:20, 20, replace=false)  # DOES NOT replace units after being selected"
   ]
  },
  {
   "cell_type": "markdown",
   "metadata": {},
   "source": [
    "Next we'll use the [`countmap`](http://juliastats.github.io/StatsBase.jl/latest/search.html?q=countmap) function to get the count of each unique value in our samples.  Notice that when we do sampling *without* replacement, the values will only appear one time.  When sampling *with* replacement, any given selected item is then placed back into the pool of possible items to select from."
   ]
  },
  {
   "cell_type": "code",
   "execution_count": 15,
   "metadata": {},
   "outputs": [
    {
     "name": "stdout",
     "output_type": "stream",
     "text": [
      "countmap(y1) = Dict(2 => 2,16 => 3,7 => 1,9 => 2,19 => 1,17 => 1,4 => 1,3 => 2,5 => 1,20 => 1,12 => 3,18 => 2)\n",
      "countmap(y2) = Dict(18 => 1,2 => 1,16 => 1,11 => 1,7 => 1,9 => 1,10 => 1,19 => 1,17 => 1,8 => 1,6 => 1,4 => 1,3 => 1,5 => 1,20 => 1,13 => 1,14 => 1,15 => 1,12 => 1,1 => 1)\n"
     ]
    },
    {
     "data": {
      "text/plain": [
       "Dict{Int64,Int64} with 20 entries:\n",
       "  18 => 1\n",
       "  2  => 1\n",
       "  16 => 1\n",
       "  11 => 1\n",
       "  7  => 1\n",
       "  9  => 1\n",
       "  10 => 1\n",
       "  19 => 1\n",
       "  17 => 1\n",
       "  8  => 1\n",
       "  6  => 1\n",
       "  4  => 1\n",
       "  3  => 1\n",
       "  5  => 1\n",
       "  20 => 1\n",
       "  13 => 1\n",
       "  14 => 1\n",
       "  15 => 1\n",
       "  12 => 1\n",
       "  1  => 1"
      ]
     },
     "execution_count": 15,
     "metadata": {},
     "output_type": "execute_result"
    }
   ],
   "source": [
    "@show countmap(y1)\n",
    "@show countmap(y2)"
   ]
  },
  {
   "cell_type": "markdown",
   "metadata": {},
   "source": [
    "This is just a small sample (pun intended) of the features in **`StatsBase`**.  For a more complete look of what is possible, check out the [documentation](http://juliastats.github.io/StatsBase.jl/latest/index.html)."
   ]
  },
  {
   "cell_type": "markdown",
   "metadata": {},
   "source": [
    "## Parametric Distributions"
   ]
  },
  {
   "cell_type": "markdown",
   "metadata": {},
   "source": [
    "The [**`Distributions`**](https://github.com/JuliaStats/Distributions.jl) package provides an interface for working with probability distributions.  The full documentation is [here](https://juliastats.github.io/Distributions.jl/stable/).  \n",
    "\n",
    "Here we'll also load the **`StatsPlots`** package (more on this in the next course module) to visualize the probability distributions."
   ]
  },
  {
   "cell_type": "code",
   "execution_count": 18,
   "metadata": {},
   "outputs": [
    {
     "name": "stderr",
     "output_type": "stream",
     "text": [
      "\u001b[32m\u001b[1m  Resolving\u001b[22m\u001b[39m package versions...\n",
      "\u001b[32m\u001b[1m   Updating\u001b[22m\u001b[39m `~/Project.toml`\n",
      "\u001b[90m [no changes]\u001b[39m\n",
      "\u001b[32m\u001b[1m   Updating\u001b[22m\u001b[39m `~/Manifest.toml`\n",
      "\u001b[90m [no changes]\u001b[39m\n",
      "\u001b[32m\u001b[1m  Resolving\u001b[22m\u001b[39m package versions...\n",
      "\u001b[32m\u001b[1m  Installed\u001b[22m\u001b[39m Ogg_jll ─────────── v1.3.4+0\n",
      "\u001b[32m\u001b[1m  Installed\u001b[22m\u001b[39m FriBidi_jll ─────── v1.0.5+3\n",
      "\u001b[32m\u001b[1m  Installed\u001b[22m\u001b[39m Observables ─────── v0.3.1\n",
      "\u001b[32m\u001b[1m  Installed\u001b[22m\u001b[39m x264_jll ────────── v2019.5.25+2\n",
      "\u001b[32m\u001b[1m  Installed\u001b[22m\u001b[39m libass_jll ──────── v0.14.0+2\n",
      "\u001b[32m\u001b[1m  Installed\u001b[22m\u001b[39m DataValues ──────── v0.4.13\n",
      "\u001b[32m\u001b[1m  Installed\u001b[22m\u001b[39m StatsPlots ──────── v0.14.5\n",
      "\u001b[32m\u001b[1m  Installed\u001b[22m\u001b[39m FFMPEG_jll ──────── v4.1.0+3\n",
      "\u001b[32m\u001b[1m  Installed\u001b[22m\u001b[39m LibVPX_jll ──────── v1.8.1+1\n",
      "\u001b[32m\u001b[1m  Installed\u001b[22m\u001b[39m Bzip2_jll ───────── v1.0.6+2\n",
      "\u001b[32m\u001b[1m  Installed\u001b[22m\u001b[39m OpenSSL_jll ─────── v1.1.1+2\n",
      "\u001b[32m\u001b[1m  Installed\u001b[22m\u001b[39m PlotThemes ──────── v2.0.0\n",
      "\u001b[32m\u001b[1m  Installed\u001b[22m\u001b[39m Plots ───────────── v1.2.2\n",
      "\u001b[32m\u001b[1m  Installed\u001b[22m\u001b[39m TableOperations ─── v0.2.1\n",
      "\u001b[32m\u001b[1m  Installed\u001b[22m\u001b[39m libvorbis_jll ───── v1.3.6+4\n",
      "\u001b[32m\u001b[1m  Installed\u001b[22m\u001b[39m RecipesPipeline ─── v0.1.7\n",
      "\u001b[32m\u001b[1m  Installed\u001b[22m\u001b[39m ColorSchemes ────── v3.9.0\n",
      "\u001b[32m\u001b[1m  Installed\u001b[22m\u001b[39m Opus_jll ────────── v1.3.1+1\n",
      "\u001b[32m\u001b[1m  Installed\u001b[22m\u001b[39m MultivariateStats ─ v0.7.0\n",
      "\u001b[32m\u001b[1m  Installed\u001b[22m\u001b[39m PlotUtils ───────── v1.0.2\n",
      "\u001b[32m\u001b[1m  Installed\u001b[22m\u001b[39m RecipesBase ─────── v1.0.1\n",
      "\u001b[32m\u001b[1m  Installed\u001b[22m\u001b[39m libfdk_aac_jll ──── v0.1.6+2\n",
      "\u001b[32m\u001b[1m  Installed\u001b[22m\u001b[39m NearestNeighbors ── v0.4.4\n",
      "\u001b[32m\u001b[1m  Installed\u001b[22m\u001b[39m Clustering ──────── v0.14.0\n",
      "\u001b[32m\u001b[1m  Installed\u001b[22m\u001b[39m FreeType2_jll ───── v2.10.1+2\n",
      "\u001b[32m\u001b[1m  Installed\u001b[22m\u001b[39m Widgets ─────────── v0.6.2\n",
      "\u001b[32m\u001b[1m  Installed\u001b[22m\u001b[39m FFMPEG ──────────── v0.3.0\n",
      "\u001b[32m\u001b[1m  Installed\u001b[22m\u001b[39m LAME_jll ────────── v3.100.0+1\n",
      "\u001b[32m\u001b[1m  Installed\u001b[22m\u001b[39m x265_jll ────────── v3.0.0+1\n",
      "\u001b[32m\u001b[1m  Installed\u001b[22m\u001b[39m GR ──────────────── v0.49.1\n",
      "\u001b[32m\u001b[1m  Installed\u001b[22m\u001b[39m GeometryTypes ───── v0.8.3\n",
      "######################################################################### 100.0%##O#- #                                                                        \n",
      "######################################################################### 100.0%##O#- #                                                                        \n",
      "######################################################################### 100.0%##O#- #                                                                        \n",
      "######################################################################### 100.0%##O#- #                                                                        \n",
      "######################################################################### 100.0%##O#- #                                                                        \n",
      "######################################################################### 100.0%##O#- #                                                                        \n",
      "######################################################################### 100.0%##O#- #                                                                        \n",
      "######################################################################### 100.0%##O#- #                                                                        \n",
      "######################################################################### 100.0%##O#- #                                                                        \n",
      "######################################################################### 100.0%##O#- #                                                                        \n",
      "######################################################################### 100.0%##O#- #                                                                        \n",
      "######################################################################### 100.0%##O#- #                                                                        \n",
      "######################################################################### 100.0%##O#- #                                                                        \n",
      "######################################################################### 100.0%##O#- #                                                                        \n",
      "\u001b[32m\u001b[1m   Updating\u001b[22m\u001b[39m `~/Project.toml`\n",
      " \u001b[90m [f3b207a7]\u001b[39m\u001b[92m + StatsPlots v0.14.5\u001b[39m\n",
      "\u001b[32m\u001b[1m   Updating\u001b[22m\u001b[39m `~/Manifest.toml`\n",
      " \u001b[90m [6e34b625]\u001b[39m\u001b[92m + Bzip2_jll v1.0.6+2\u001b[39m\n",
      " \u001b[90m [aaaa29a8]\u001b[39m\u001b[92m + Clustering v0.14.0\u001b[39m\n",
      " \u001b[90m [35d6a980]\u001b[39m\u001b[92m + ColorSchemes v3.9.0\u001b[39m\n",
      " \u001b[90m [e7dc6d0d]\u001b[39m\u001b[92m + DataValues v0.4.13\u001b[39m\n",
      " \u001b[90m [c87230d0]\u001b[39m\u001b[92m + FFMPEG v0.3.0\u001b[39m\n",
      " \u001b[90m [b22a6f82]\u001b[39m\u001b[92m + FFMPEG_jll v4.1.0+3\u001b[39m\n",
      " \u001b[90m [d7e528f0]\u001b[39m\u001b[92m + FreeType2_jll v2.10.1+2\u001b[39m\n",
      " \u001b[90m [559328eb]\u001b[39m\u001b[92m + FriBidi_jll v1.0.5+3\u001b[39m\n",
      " \u001b[90m [28b8d3ca]\u001b[39m\u001b[92m + GR v0.49.1\u001b[39m\n",
      " \u001b[90m [4d00f742]\u001b[39m\u001b[92m + GeometryTypes v0.8.3\u001b[39m\n",
      " \u001b[90m [c1c5ebd0]\u001b[39m\u001b[92m + LAME_jll v3.100.0+1\u001b[39m\n",
      " \u001b[90m [dd192d2f]\u001b[39m\u001b[92m + LibVPX_jll v1.8.1+1\u001b[39m\n",
      " \u001b[90m [6f286f6a]\u001b[39m\u001b[92m + MultivariateStats v0.7.0\u001b[39m\n",
      " \u001b[90m [b8a86587]\u001b[39m\u001b[92m + NearestNeighbors v0.4.4\u001b[39m\n",
      " \u001b[90m [510215fc]\u001b[39m\u001b[92m + Observables v0.3.1\u001b[39m\n",
      " \u001b[90m [e7412a2a]\u001b[39m\u001b[92m + Ogg_jll v1.3.4+0\u001b[39m\n",
      " \u001b[90m [458c3c95]\u001b[39m\u001b[92m + OpenSSL_jll v1.1.1+2\u001b[39m\n",
      " \u001b[90m [91d4177d]\u001b[39m\u001b[92m + Opus_jll v1.3.1+1\u001b[39m\n",
      " \u001b[90m [ccf2f8ad]\u001b[39m\u001b[92m + PlotThemes v2.0.0\u001b[39m\n",
      " \u001b[90m [995b91a9]\u001b[39m\u001b[92m + PlotUtils v1.0.2\u001b[39m\n",
      " \u001b[90m [91a5bcdd]\u001b[39m\u001b[92m + Plots v1.2.2\u001b[39m\n",
      " \u001b[90m [3cdcf5f2]\u001b[39m\u001b[92m + RecipesBase v1.0.1\u001b[39m\n",
      " \u001b[90m [01d81517]\u001b[39m\u001b[92m + RecipesPipeline v0.1.7\u001b[39m\n",
      " \u001b[90m [f3b207a7]\u001b[39m\u001b[92m + StatsPlots v0.14.5\u001b[39m\n",
      " \u001b[90m [ab02a1b2]\u001b[39m\u001b[92m + TableOperations v0.2.1\u001b[39m\n",
      " \u001b[90m [cc8bc4a8]\u001b[39m\u001b[92m + Widgets v0.6.2\u001b[39m\n",
      " \u001b[90m [0ac62f75]\u001b[39m\u001b[92m + libass_jll v0.14.0+2\u001b[39m\n",
      " \u001b[90m [f638f0a6]\u001b[39m\u001b[92m + libfdk_aac_jll v0.1.6+2\u001b[39m\n",
      " \u001b[90m [f27f6e37]\u001b[39m\u001b[92m + libvorbis_jll v1.3.6+4\u001b[39m\n",
      " \u001b[90m [1270edf5]\u001b[39m\u001b[92m + x264_jll v2019.5.25+2\u001b[39m\n",
      " \u001b[90m [dfaa095f]\u001b[39m\u001b[92m + x265_jll v3.0.0+1\u001b[39m\n",
      "\u001b[32m\u001b[1m   Building\u001b[22m\u001b[39m GR ───→ `/srv/julia/pkg/packages/GR/cRdXQ/deps/build.log`\n",
      "\u001b[32m\u001b[1m   Building\u001b[22m\u001b[39m Plots → `/srv/julia/pkg/packages/Plots/V8QVi/deps/build.log`\n",
      "┌ Info: Precompiling StatsPlots [f3b207a7-027a-5e70-b257-86293d7955fd]\n",
      "└ @ Base loading.jl:1260\n"
     ]
    },
    {
     "data": {
      "image/svg+xml": [
       "<?xml version=\"1.0\" encoding=\"utf-8\"?>\n",
       "<svg xmlns=\"http://www.w3.org/2000/svg\" xmlns:xlink=\"http://www.w3.org/1999/xlink\" width=\"600\" height=\"400\" viewBox=\"0 0 2400 1600\">\n",
       "<defs>\n",
       "  <clipPath id=\"clip190\">\n",
       "    <rect x=\"0\" y=\"0\" width=\"2400\" height=\"1600\"/>\n",
       "  </clipPath>\n",
       "</defs>\n",
       "<path clip-path=\"url(#clip190)\" d=\"\n",
       "M0 1600 L2400 1600 L2400 0 L0 0  Z\n",
       "  \" fill=\"#ffffff\" fill-rule=\"evenodd\" fill-opacity=\"1\"/>\n",
       "<defs>\n",
       "  <clipPath id=\"clip191\">\n",
       "    <rect x=\"480\" y=\"0\" width=\"1681\" height=\"1600\"/>\n",
       "  </clipPath>\n",
       "</defs>\n",
       "<path clip-path=\"url(#clip190)\" d=\"\n",
       "M148.334 1486.45 L2352.76 1486.45 L2352.76 47.2441 L148.334 47.2441  Z\n",
       "  \" fill=\"#ffffff\" fill-rule=\"evenodd\" fill-opacity=\"1\"/>\n",
       "<defs>\n",
       "  <clipPath id=\"clip192\">\n",
       "    <rect x=\"148\" y=\"47\" width=\"2205\" height=\"1440\"/>\n",
       "  </clipPath>\n",
       "</defs>\n",
       "<polyline clip-path=\"url(#clip192)\" style=\"stroke:#000000; stroke-width:2; stroke-opacity:0.1; fill:none\" points=\"\n",
       "  570.438,1486.45 570.438,47.2441 \n",
       "  \"/>\n",
       "<polyline clip-path=\"url(#clip192)\" style=\"stroke:#000000; stroke-width:2; stroke-opacity:0.1; fill:none\" points=\"\n",
       "  1054.05,1486.45 1054.05,47.2441 \n",
       "  \"/>\n",
       "<polyline clip-path=\"url(#clip192)\" style=\"stroke:#000000; stroke-width:2; stroke-opacity:0.1; fill:none\" points=\"\n",
       "  1537.67,1486.45 1537.67,47.2441 \n",
       "  \"/>\n",
       "<polyline clip-path=\"url(#clip192)\" style=\"stroke:#000000; stroke-width:2; stroke-opacity:0.1; fill:none\" points=\"\n",
       "  2021.28,1486.45 2021.28,47.2441 \n",
       "  \"/>\n",
       "<polyline clip-path=\"url(#clip192)\" style=\"stroke:#000000; stroke-width:2; stroke-opacity:0.1; fill:none\" points=\"\n",
       "  148.334,1445.72 2352.76,1445.72 \n",
       "  \"/>\n",
       "<polyline clip-path=\"url(#clip192)\" style=\"stroke:#000000; stroke-width:2; stroke-opacity:0.1; fill:none\" points=\"\n",
       "  148.334,1105.32 2352.76,1105.32 \n",
       "  \"/>\n",
       "<polyline clip-path=\"url(#clip192)\" style=\"stroke:#000000; stroke-width:2; stroke-opacity:0.1; fill:none\" points=\"\n",
       "  148.334,764.931 2352.76,764.931 \n",
       "  \"/>\n",
       "<polyline clip-path=\"url(#clip192)\" style=\"stroke:#000000; stroke-width:2; stroke-opacity:0.1; fill:none\" points=\"\n",
       "  148.334,424.539 2352.76,424.539 \n",
       "  \"/>\n",
       "<polyline clip-path=\"url(#clip192)\" style=\"stroke:#000000; stroke-width:2; stroke-opacity:0.1; fill:none\" points=\"\n",
       "  148.334,84.1472 2352.76,84.1472 \n",
       "  \"/>\n",
       "<polyline clip-path=\"url(#clip190)\" style=\"stroke:#000000; stroke-width:4; stroke-opacity:1; fill:none\" points=\"\n",
       "  148.334,1486.45 2352.76,1486.45 \n",
       "  \"/>\n",
       "<polyline clip-path=\"url(#clip190)\" style=\"stroke:#000000; stroke-width:4; stroke-opacity:1; fill:none\" points=\"\n",
       "  148.334,1486.45 148.334,47.2441 \n",
       "  \"/>\n",
       "<polyline clip-path=\"url(#clip190)\" style=\"stroke:#000000; stroke-width:4; stroke-opacity:1; fill:none\" points=\"\n",
       "  570.438,1486.45 570.438,1469.18 \n",
       "  \"/>\n",
       "<polyline clip-path=\"url(#clip190)\" style=\"stroke:#000000; stroke-width:4; stroke-opacity:1; fill:none\" points=\"\n",
       "  1054.05,1486.45 1054.05,1469.18 \n",
       "  \"/>\n",
       "<polyline clip-path=\"url(#clip190)\" style=\"stroke:#000000; stroke-width:4; stroke-opacity:1; fill:none\" points=\"\n",
       "  1537.67,1486.45 1537.67,1469.18 \n",
       "  \"/>\n",
       "<polyline clip-path=\"url(#clip190)\" style=\"stroke:#000000; stroke-width:4; stroke-opacity:1; fill:none\" points=\"\n",
       "  2021.28,1486.45 2021.28,1469.18 \n",
       "  \"/>\n",
       "<polyline clip-path=\"url(#clip190)\" style=\"stroke:#000000; stroke-width:4; stroke-opacity:1; fill:none\" points=\"\n",
       "  148.334,1445.72 174.787,1445.72 \n",
       "  \"/>\n",
       "<polyline clip-path=\"url(#clip190)\" style=\"stroke:#000000; stroke-width:4; stroke-opacity:1; fill:none\" points=\"\n",
       "  148.334,1105.32 174.787,1105.32 \n",
       "  \"/>\n",
       "<polyline clip-path=\"url(#clip190)\" style=\"stroke:#000000; stroke-width:4; stroke-opacity:1; fill:none\" points=\"\n",
       "  148.334,764.931 174.787,764.931 \n",
       "  \"/>\n",
       "<polyline clip-path=\"url(#clip190)\" style=\"stroke:#000000; stroke-width:4; stroke-opacity:1; fill:none\" points=\"\n",
       "  148.334,424.539 174.787,424.539 \n",
       "  \"/>\n",
       "<polyline clip-path=\"url(#clip190)\" style=\"stroke:#000000; stroke-width:4; stroke-opacity:1; fill:none\" points=\"\n",
       "  148.334,84.1472 174.787,84.1472 \n",
       "  \"/>\n",
       "<path clip-path=\"url(#clip190)\" d=\"M 0 0 M570.438 1508.44 Q566.827 1508.44 564.998 1512 Q563.193 1515.55 563.193 1522.67 Q563.193 1529.78 564.998 1533.35 Q566.827 1536.89 570.438 1536.89 Q574.072 1536.89 575.878 1533.35 Q577.706 1529.78 577.706 1522.67 Q577.706 1515.55 575.878 1512 Q574.072 1508.44 570.438 1508.44 M570.438 1504.73 Q576.248 1504.73 579.304 1509.34 Q582.382 1513.92 582.382 1522.67 Q582.382 1531.4 579.304 1536.01 Q576.248 1540.59 570.438 1540.59 Q564.628 1540.59 561.549 1536.01 Q558.494 1531.4 558.494 1522.67 Q558.494 1513.92 561.549 1509.34 Q564.628 1504.73 570.438 1504.73 Z\" fill=\"#000000\" fill-rule=\"evenodd\" fill-opacity=\"1\" /><path clip-path=\"url(#clip190)\" d=\"M 0 0 M1044.33 1505.36 L1062.69 1505.36 L1062.69 1509.3 L1048.61 1509.3 L1048.61 1517.77 Q1049.63 1517.42 1050.65 1517.26 Q1051.67 1517.07 1052.69 1517.07 Q1058.47 1517.07 1061.85 1520.24 Q1065.23 1523.42 1065.23 1528.83 Q1065.23 1534.41 1061.76 1537.51 Q1058.29 1540.59 1051.97 1540.59 Q1049.79 1540.59 1047.53 1540.22 Q1045.28 1539.85 1042.87 1539.11 L1042.87 1534.41 Q1044.96 1535.54 1047.18 1536.1 Q1049.4 1536.66 1051.88 1536.66 Q1055.88 1536.66 1058.22 1534.55 Q1060.56 1532.44 1060.56 1528.83 Q1060.56 1525.22 1058.22 1523.11 Q1055.88 1521.01 1051.88 1521.01 Q1050 1521.01 1048.13 1521.42 Q1046.28 1521.84 1044.33 1522.72 L1044.33 1505.36 Z\" fill=\"#000000\" fill-rule=\"evenodd\" fill-opacity=\"1\" /><path clip-path=\"url(#clip190)\" d=\"M 0 0 M1514.54 1535.98 L1522.18 1535.98 L1522.18 1509.62 L1513.87 1511.29 L1513.87 1507.03 L1522.14 1505.36 L1526.81 1505.36 L1526.81 1535.98 L1534.45 1535.98 L1534.45 1539.92 L1514.54 1539.92 L1514.54 1535.98 Z\" fill=\"#000000\" fill-rule=\"evenodd\" fill-opacity=\"1\" /><path clip-path=\"url(#clip190)\" d=\"M 0 0 M1549.52 1508.44 Q1545.91 1508.44 1544.08 1512 Q1542.27 1515.55 1542.27 1522.67 Q1542.27 1529.78 1544.08 1533.35 Q1545.91 1536.89 1549.52 1536.89 Q1553.15 1536.89 1554.96 1533.35 Q1556.79 1529.78 1556.79 1522.67 Q1556.79 1515.55 1554.96 1512 Q1553.15 1508.44 1549.52 1508.44 M1549.52 1504.73 Q1555.33 1504.73 1558.39 1509.34 Q1561.46 1513.92 1561.46 1522.67 Q1561.46 1531.4 1558.39 1536.01 Q1555.33 1540.59 1549.52 1540.59 Q1543.71 1540.59 1540.63 1536.01 Q1537.58 1531.4 1537.58 1522.67 Q1537.58 1513.92 1540.63 1509.34 Q1543.71 1504.73 1549.52 1504.73 Z\" fill=\"#000000\" fill-rule=\"evenodd\" fill-opacity=\"1\" /><path clip-path=\"url(#clip190)\" d=\"M 0 0 M1998.66 1535.98 L2006.29 1535.98 L2006.29 1509.62 L1997.98 1511.29 L1997.98 1507.03 L2006.25 1505.36 L2010.92 1505.36 L2010.92 1535.98 L2018.56 1535.98 L2018.56 1539.92 L1998.66 1539.92 L1998.66 1535.98 Z\" fill=\"#000000\" fill-rule=\"evenodd\" fill-opacity=\"1\" /><path clip-path=\"url(#clip190)\" d=\"M 0 0 M2023.68 1505.36 L2042.03 1505.36 L2042.03 1509.3 L2027.96 1509.3 L2027.96 1517.77 Q2028.98 1517.42 2030 1517.26 Q2031.02 1517.07 2032.03 1517.07 Q2037.82 1517.07 2041.2 1520.24 Q2044.58 1523.42 2044.58 1528.83 Q2044.58 1534.41 2041.11 1537.51 Q2037.64 1540.59 2031.32 1540.59 Q2029.14 1540.59 2026.87 1540.22 Q2024.63 1539.85 2022.22 1539.11 L2022.22 1534.41 Q2024.3 1535.54 2026.53 1536.1 Q2028.75 1536.66 2031.22 1536.66 Q2035.23 1536.66 2037.57 1534.55 Q2039.91 1532.44 2039.91 1528.83 Q2039.91 1525.22 2037.57 1523.11 Q2035.23 1521.01 2031.22 1521.01 Q2029.35 1521.01 2027.47 1521.42 Q2025.62 1521.84 2023.68 1522.72 L2023.68 1505.36 Z\" fill=\"#000000\" fill-rule=\"evenodd\" fill-opacity=\"1\" /><path clip-path=\"url(#clip190)\" d=\"M 0 0 M75.4226 1431.51 Q71.8115 1431.51 69.9828 1435.08 Q68.1773 1438.62 68.1773 1445.75 Q68.1773 1452.86 69.9828 1456.42 Q71.8115 1459.96 75.4226 1459.96 Q79.0569 1459.96 80.8624 1456.42 Q82.6911 1452.86 82.6911 1445.75 Q82.6911 1438.62 80.8624 1435.08 Q79.0569 1431.51 75.4226 1431.51 M75.4226 1427.81 Q81.2328 1427.81 84.2883 1432.42 Q87.367 1437 87.367 1445.75 Q87.367 1454.48 84.2883 1459.08 Q81.2328 1463.67 75.4226 1463.67 Q69.6125 1463.67 66.5338 1459.08 Q63.4782 1454.48 63.4782 1445.75 Q63.4782 1437 66.5338 1432.42 Q69.6125 1427.81 75.4226 1427.81 Z\" fill=\"#000000\" fill-rule=\"evenodd\" fill-opacity=\"1\" /><path clip-path=\"url(#clip190)\" d=\"M 0 0 M92.4364 1457.12 L97.3206 1457.12 L97.3206 1463 L92.4364 1463 L92.4364 1457.12 Z\" fill=\"#000000\" fill-rule=\"evenodd\" fill-opacity=\"1\" /><path clip-path=\"url(#clip190)\" d=\"M 0 0 M112.39 1431.51 Q108.779 1431.51 106.95 1435.08 Q105.145 1438.62 105.145 1445.75 Q105.145 1452.86 106.95 1456.42 Q108.779 1459.96 112.39 1459.96 Q116.024 1459.96 117.83 1456.42 Q119.658 1452.86 119.658 1445.75 Q119.658 1438.62 117.83 1435.08 Q116.024 1431.51 112.39 1431.51 M112.39 1427.81 Q118.2 1427.81 121.256 1432.42 Q124.334 1437 124.334 1445.75 Q124.334 1454.48 121.256 1459.08 Q118.2 1463.67 112.39 1463.67 Q106.58 1463.67 103.501 1459.08 Q100.446 1454.48 100.446 1445.75 Q100.446 1437 103.501 1432.42 Q106.58 1427.81 112.39 1427.81 Z\" fill=\"#000000\" fill-rule=\"evenodd\" fill-opacity=\"1\" /><path clip-path=\"url(#clip190)\" d=\"M 0 0 M76.6495 1091.12 Q73.0384 1091.12 71.2097 1094.69 Q69.4041 1098.23 69.4041 1105.36 Q69.4041 1112.46 71.2097 1116.03 Q73.0384 1119.57 76.6495 1119.57 Q80.2837 1119.57 82.0892 1116.03 Q83.9179 1112.46 83.9179 1105.36 Q83.9179 1098.23 82.0892 1094.69 Q80.2837 1091.12 76.6495 1091.12 M76.6495 1087.42 Q82.4596 1087.42 85.5152 1092.03 Q88.5938 1096.61 88.5938 1105.36 Q88.5938 1114.09 85.5152 1118.69 Q82.4596 1123.27 76.6495 1123.27 Q70.8393 1123.27 67.7606 1118.69 Q64.7051 1114.09 64.7051 1105.36 Q64.7051 1096.61 67.7606 1092.03 Q70.8393 1087.42 76.6495 1087.42 Z\" fill=\"#000000\" fill-rule=\"evenodd\" fill-opacity=\"1\" /><path clip-path=\"url(#clip190)\" d=\"M 0 0 M93.6633 1116.72 L98.5475 1116.72 L98.5475 1122.6 L93.6633 1122.6 L93.6633 1116.72 Z\" fill=\"#000000\" fill-rule=\"evenodd\" fill-opacity=\"1\" /><path clip-path=\"url(#clip190)\" d=\"M 0 0 M104.427 1118.67 L112.066 1118.67 L112.066 1092.3 L103.756 1093.97 L103.756 1089.71 L112.02 1088.04 L116.696 1088.04 L116.696 1118.67 L124.334 1118.67 L124.334 1122.6 L104.427 1122.6 L104.427 1118.67 Z\" fill=\"#000000\" fill-rule=\"evenodd\" fill-opacity=\"1\" /><path clip-path=\"url(#clip190)\" d=\"M 0 0 M77.0198 750.73 Q73.4087 750.73 71.58 754.295 Q69.7745 757.837 69.7745 764.966 Q69.7745 772.073 71.58 775.637 Q73.4087 779.179 77.0198 779.179 Q80.6541 779.179 82.4596 775.637 Q84.2883 772.073 84.2883 764.966 Q84.2883 757.837 82.4596 754.295 Q80.6541 750.73 77.0198 750.73 M77.0198 747.026 Q82.83 747.026 85.8855 751.633 Q88.9642 756.216 88.9642 764.966 Q88.9642 773.693 85.8855 778.299 Q82.83 782.883 77.0198 782.883 Q71.2097 782.883 68.131 778.299 Q65.0754 773.693 65.0754 764.966 Q65.0754 756.216 68.131 751.633 Q71.2097 747.026 77.0198 747.026 Z\" fill=\"#000000\" fill-rule=\"evenodd\" fill-opacity=\"1\" /><path clip-path=\"url(#clip190)\" d=\"M 0 0 M94.0336 776.332 L98.9179 776.332 L98.9179 782.211 L94.0336 782.211 L94.0336 776.332 Z\" fill=\"#000000\" fill-rule=\"evenodd\" fill-opacity=\"1\" /><path clip-path=\"url(#clip190)\" d=\"M 0 0 M108.015 778.276 L124.334 778.276 L124.334 782.211 L102.39 782.211 L102.39 778.276 Q105.052 775.522 109.635 770.892 Q114.242 766.239 115.422 764.897 Q117.668 762.374 118.547 760.637 Q119.45 758.878 119.45 757.188 Q119.45 754.434 117.506 752.698 Q115.584 750.962 112.483 750.962 Q110.284 750.962 107.83 751.725 Q105.399 752.489 102.622 754.04 L102.622 749.318 Q105.446 748.184 107.899 747.605 Q110.353 747.026 112.39 747.026 Q117.76 747.026 120.955 749.712 Q124.149 752.397 124.149 756.887 Q124.149 759.017 123.339 760.938 Q122.552 762.837 120.446 765.429 Q119.867 766.1 116.765 769.318 Q113.663 772.512 108.015 778.276 Z\" fill=\"#000000\" fill-rule=\"evenodd\" fill-opacity=\"1\" /><path clip-path=\"url(#clip190)\" d=\"M 0 0 M76.0708 410.338 Q72.4597 410.338 70.631 413.903 Q68.8254 417.444 68.8254 424.574 Q68.8254 431.68 70.631 435.245 Q72.4597 438.787 76.0708 438.787 Q79.705 438.787 81.5105 435.245 Q83.3392 431.68 83.3392 424.574 Q83.3392 417.444 81.5105 413.903 Q79.705 410.338 76.0708 410.338 M76.0708 406.634 Q81.8809 406.634 84.9365 411.241 Q88.0151 415.824 88.0151 424.574 Q88.0151 433.301 84.9365 437.907 Q81.8809 442.491 76.0708 442.491 Q70.2606 442.491 67.1819 437.907 Q64.1264 433.301 64.1264 424.574 Q64.1264 415.824 67.1819 411.241 Q70.2606 406.634 76.0708 406.634 Z\" fill=\"#000000\" fill-rule=\"evenodd\" fill-opacity=\"1\" /><path clip-path=\"url(#clip190)\" d=\"M 0 0 M93.0846 435.94 L97.9688 435.94 L97.9688 441.819 L93.0846 441.819 L93.0846 435.94 Z\" fill=\"#000000\" fill-rule=\"evenodd\" fill-opacity=\"1\" /><path clip-path=\"url(#clip190)\" d=\"M 0 0 M117.205 423.185 Q120.561 423.903 122.436 426.171 Q124.334 428.44 124.334 431.773 Q124.334 436.889 120.816 439.69 Q117.297 442.491 110.816 442.491 Q108.64 442.491 106.325 442.051 Q104.034 441.634 101.58 440.778 L101.58 436.264 Q103.524 437.398 105.839 437.977 Q108.154 438.555 110.677 438.555 Q115.075 438.555 117.367 436.819 Q119.682 435.083 119.682 431.773 Q119.682 428.718 117.529 427.005 Q115.399 425.268 111.58 425.268 L107.552 425.268 L107.552 421.426 L111.765 421.426 Q115.214 421.426 117.043 420.06 Q118.871 418.671 118.871 416.079 Q118.871 413.417 116.973 412.005 Q115.098 410.569 111.58 410.569 Q109.659 410.569 107.459 410.986 Q105.26 411.403 102.622 412.282 L102.622 408.116 Q105.284 407.375 107.598 407.005 Q109.936 406.634 111.996 406.634 Q117.321 406.634 120.422 409.065 Q123.524 411.472 123.524 415.593 Q123.524 418.463 121.881 420.454 Q120.237 422.421 117.205 423.185 Z\" fill=\"#000000\" fill-rule=\"evenodd\" fill-opacity=\"1\" /><path clip-path=\"url(#clip190)\" d=\"M 0 0 M74.9365 69.9458 Q71.3254 69.9458 69.4967 73.5106 Q67.6912 77.0523 67.6912 84.1819 Q67.6912 91.2883 69.4967 94.8531 Q71.3254 98.3948 74.9365 98.3948 Q78.5707 98.3948 80.3763 94.8531 Q82.205 91.2883 82.205 84.1819 Q82.205 77.0523 80.3763 73.5106 Q78.5707 69.9458 74.9365 69.9458 M74.9365 66.2422 Q80.7467 66.2422 83.8022 70.8486 Q86.8809 75.4319 86.8809 84.1819 Q86.8809 92.9087 83.8022 97.5151 Q80.7467 102.098 74.9365 102.098 Q69.1264 102.098 66.0477 97.5151 Q62.9921 92.9087 62.9921 84.1819 Q62.9921 75.4319 66.0477 70.8486 Q69.1264 66.2422 74.9365 66.2422 Z\" fill=\"#000000\" fill-rule=\"evenodd\" fill-opacity=\"1\" /><path clip-path=\"url(#clip190)\" d=\"M 0 0 M91.9503 95.5476 L96.8345 95.5476 L96.8345 101.427 L91.9503 101.427 L91.9503 95.5476 Z\" fill=\"#000000\" fill-rule=\"evenodd\" fill-opacity=\"1\" /><path clip-path=\"url(#clip190)\" d=\"M 0 0 M114.751 70.9412 L102.946 89.3902 L114.751 89.3902 L114.751 70.9412 M113.524 66.8672 L119.404 66.8672 L119.404 89.3902 L124.334 89.3902 L124.334 93.2791 L119.404 93.2791 L119.404 101.427 L114.751 101.427 L114.751 93.2791 L99.1493 93.2791 L99.1493 88.7652 L113.524 66.8672 Z\" fill=\"#000000\" fill-rule=\"evenodd\" fill-opacity=\"1\" /><polyline clip-path=\"url(#clip192)\" style=\"stroke:#009af9; stroke-width:4; stroke-opacity:1; fill:none\" points=\"\n",
       "  210.724,1444.37 214.237,1444.17 217.749,1443.95 250.231,1440.05 282.713,1429.45 302.234,1416.66 321.754,1395.89 338.258,1369.57 354.762,1332.68 363.726,1307.33 \n",
       "  372.69,1277.74 381.654,1243.57 390.618,1204.53 398.882,1164.04 407.146,1119.14 415.41,1069.84 423.674,1016.24 441.394,888.051 459.114,745.494 479.645,571.638 \n",
       "  500.175,402.682 509.297,333.671 518.42,270.595 527.542,214.937 536.665,168.06 544.664,135.115 552.664,110.484 560.663,94.6645 568.663,87.9763 577.384,91.245 \n",
       "  586.106,105.448 594.828,130.241 603.549,165.032 612.323,209.286 621.096,261.792 629.87,321.357 638.643,386.675 658.044,544.663 677.444,709.313 695.903,860.235 \n",
       "  714.362,996.876 723.959,1060.38 733.555,1118.14 743.152,1169.97 752.748,1215.88 768.905,1280.28 785.061,1329.91 804.787,1373.58 824.512,1402.61 843.054,1420.14 \n",
       "  861.597,1431.09 891.303,1440.18 921.009,1443.81 925.581,1444.11 930.152,1444.37 \n",
       "  \"/>\n",
       "<polyline clip-path=\"url(#clip192)\" style=\"stroke:#e26f46; stroke-width:4; stroke-opacity:1; fill:none\" points=\"\n",
       "  570.438,1445.72 574.637,1445.72 578.836,1445.71 583.035,1445.68 587.235,1445.61 606.648,1443.8 626.062,1436.99 635.768,1430.69 645.475,1422.07 655.182,1410.92 \n",
       "  664.889,1397.14 674.595,1380.74 684.302,1361.78 694.009,1340.41 703.716,1316.82 723.129,1264.04 742.543,1205.8 765.876,1132.28 789.209,1059.07 812.543,990.107 \n",
       "  835.876,928.51 855.604,883.865 875.332,846.966 885.196,831.577 895.06,818.263 904.925,807.025 914.789,797.844 925.504,790.161 936.219,784.8 946.934,781.68 \n",
       "  957.649,780.703 979.079,784.742 1000.51,795.954 1020.27,811.745 1040.02,831.912 1059.78,855.634 1079.54,882.129 1121.9,944.989 1164.26,1011.25 1213.34,1086.35 \n",
       "  1262.42,1155.34 1306.04,1209.51 1349.66,1256.25 1387.91,1291.18 1426.16,1320.77 1467.86,1347.51 1509.56,1369.19 1551.51,1386.65 1593.46,1400.45 1686.22,1421.17 \n",
       "  1774.48,1432.35 1866.25,1438.77 1943.5,1441.78 2037.81,1443.78 2126.47,1444.74 2268.51,1445.4 2290.37,1445.45 \n",
       "  \"/>\n",
       "<path clip-path=\"url(#clip190)\" d=\"\n",
       "M1770.34 312.204 L2280.76 312.204 L2280.76 130.764 L1770.34 130.764  Z\n",
       "  \" fill=\"#ffffff\" fill-rule=\"evenodd\" fill-opacity=\"1\"/>\n",
       "<polyline clip-path=\"url(#clip190)\" style=\"stroke:#000000; stroke-width:4; stroke-opacity:1; fill:none\" points=\"\n",
       "  1770.34,312.204 2280.76,312.204 2280.76,130.764 1770.34,130.764 1770.34,312.204 \n",
       "  \"/>\n",
       "<polyline clip-path=\"url(#clip190)\" style=\"stroke:#009af9; stroke-width:4; stroke-opacity:1; fill:none\" points=\"\n",
       "  1794.34,191.244 1938.34,191.244 \n",
       "  \"/>\n",
       "<path clip-path=\"url(#clip190)\" d=\"M 0 0 M1962.34 173.964 L1968.64 173.964 L1983.96 202.876 L1983.96 173.964 L1988.5 173.964 L1988.5 208.524 L1982.2 208.524 L1966.88 179.612 L1966.88 208.524 L1962.34 208.524 L1962.34 173.964 Z\" fill=\"#000000\" fill-rule=\"evenodd\" fill-opacity=\"1\" /><path clip-path=\"url(#clip190)\" d=\"M 0 0 M2003.01 185.584 Q1999.59 185.584 1997.6 188.27 Q1995.6 190.932 1995.6 195.584 Q1995.6 200.237 1997.57 202.922 Q1999.56 205.584 2003.01 205.584 Q2006.41 205.584 2008.41 202.899 Q2010.4 200.214 2010.4 195.584 Q2010.4 190.978 2008.41 188.293 Q2006.41 185.584 2003.01 185.584 M2003.01 181.973 Q2008.57 181.973 2011.74 185.584 Q2014.91 189.195 2014.91 195.584 Q2014.91 201.95 2011.74 205.584 Q2008.57 209.195 2003.01 209.195 Q1997.43 209.195 1994.26 205.584 Q1991.11 201.95 1991.11 195.584 Q1991.11 189.195 1994.26 185.584 Q1997.43 181.973 2003.01 181.973 Z\" fill=\"#000000\" fill-rule=\"evenodd\" fill-opacity=\"1\" /><path clip-path=\"url(#clip190)\" d=\"M 0 0 M2034.4 186.58 Q2033.68 186.163 2032.83 185.978 Q2031.99 185.77 2030.97 185.77 Q2027.36 185.77 2025.42 188.131 Q2023.5 190.469 2023.5 194.867 L2023.5 208.524 L2019.22 208.524 L2019.22 182.598 L2023.5 182.598 L2023.5 186.626 Q2024.84 184.265 2026.99 183.131 Q2029.15 181.973 2032.22 181.973 Q2032.66 181.973 2033.2 182.043 Q2033.73 182.089 2034.38 182.205 L2034.4 186.58 Z\" fill=\"#000000\" fill-rule=\"evenodd\" fill-opacity=\"1\" /><path clip-path=\"url(#clip190)\" d=\"M 0 0 M2058.22 187.575 Q2059.82 184.705 2062.04 183.339 Q2064.26 181.973 2067.27 181.973 Q2071.32 181.973 2073.52 184.821 Q2075.72 187.645 2075.72 192.876 L2075.72 208.524 L2071.44 208.524 L2071.44 193.015 Q2071.44 189.288 2070.12 187.483 Q2068.8 185.677 2066.09 185.677 Q2062.78 185.677 2060.86 187.876 Q2058.94 190.075 2058.94 193.871 L2058.94 208.524 L2054.66 208.524 L2054.66 193.015 Q2054.66 189.265 2053.34 187.483 Q2052.02 185.677 2049.26 185.677 Q2046 185.677 2044.08 187.899 Q2042.16 190.098 2042.16 193.871 L2042.16 208.524 L2037.87 208.524 L2037.87 182.598 L2042.16 182.598 L2042.16 186.626 Q2043.61 184.242 2045.65 183.108 Q2047.69 181.973 2050.49 181.973 Q2053.31 181.973 2055.28 183.408 Q2057.27 184.844 2058.22 187.575 Z\" fill=\"#000000\" fill-rule=\"evenodd\" fill-opacity=\"1\" /><path clip-path=\"url(#clip190)\" d=\"M 0 0 M2091.97 195.492 Q2086.81 195.492 2084.82 196.672 Q2082.83 197.853 2082.83 200.7 Q2082.83 202.969 2084.31 204.311 Q2085.81 205.631 2088.38 205.631 Q2091.92 205.631 2094.05 203.131 Q2096.21 200.607 2096.21 196.441 L2096.21 195.492 L2091.97 195.492 M2100.46 193.733 L2100.46 208.524 L2096.21 208.524 L2096.21 204.589 Q2094.75 206.95 2092.57 208.084 Q2090.4 209.195 2087.25 209.195 Q2083.27 209.195 2080.9 206.973 Q2078.57 204.728 2078.57 200.978 Q2078.57 196.603 2081.48 194.381 Q2084.42 192.158 2090.23 192.158 L2096.21 192.158 L2096.21 191.742 Q2096.21 188.802 2094.26 187.205 Q2092.34 185.584 2088.84 185.584 Q2086.62 185.584 2084.52 186.117 Q2082.41 186.649 2080.47 187.714 L2080.47 183.779 Q2082.8 182.876 2085 182.436 Q2087.2 181.973 2089.28 181.973 Q2094.91 181.973 2097.69 184.89 Q2100.46 187.807 2100.46 193.733 Z\" fill=\"#000000\" fill-rule=\"evenodd\" fill-opacity=\"1\" /><path clip-path=\"url(#clip190)\" d=\"M 0 0 M2104.93 172.506 L2109.19 172.506 L2109.19 208.524 L2104.93 208.524 L2104.93 172.506 Z\" fill=\"#000000\" fill-rule=\"evenodd\" fill-opacity=\"1\" /><path clip-path=\"url(#clip190)\" d=\"M 0 0 M2123.89 172.552 Q2120.79 177.876 2119.28 183.084 Q2117.78 188.293 2117.78 193.64 Q2117.78 198.987 2119.28 204.242 Q2120.81 209.473 2123.89 214.774 L2120.19 214.774 Q2116.71 209.334 2114.98 204.08 Q2113.27 198.825 2113.27 193.64 Q2113.27 188.478 2114.98 183.246 Q2116.69 178.015 2120.19 172.552 L2123.89 172.552 Z\" fill=\"#000000\" fill-rule=\"evenodd\" fill-opacity=\"1\" /><path clip-path=\"url(#clip190)\" d=\"M 0 0 M2138.96 177.043 Q2135.35 177.043 2133.52 180.608 Q2131.71 184.149 2131.71 191.279 Q2131.71 198.385 2133.52 201.95 Q2135.35 205.492 2138.96 205.492 Q2142.59 205.492 2144.4 201.95 Q2146.23 198.385 2146.23 191.279 Q2146.23 184.149 2144.4 180.608 Q2142.59 177.043 2138.96 177.043 M2138.96 173.339 Q2144.77 173.339 2147.83 177.946 Q2150.9 182.529 2150.9 191.279 Q2150.9 200.006 2147.83 204.612 Q2144.77 209.195 2138.96 209.195 Q2133.15 209.195 2130.07 204.612 Q2127.02 200.006 2127.02 191.279 Q2127.02 182.529 2130.07 177.946 Q2133.15 173.339 2138.96 173.339 Z\" fill=\"#000000\" fill-rule=\"evenodd\" fill-opacity=\"1\" /><path clip-path=\"url(#clip190)\" d=\"M 0 0 M2156.46 202.644 L2161.34 202.644 L2161.34 206.626 L2157.55 214.033 L2154.56 214.033 L2156.46 206.626 L2156.46 202.644 Z\" fill=\"#000000\" fill-rule=\"evenodd\" fill-opacity=\"1\" /><path clip-path=\"url(#clip190)\" d=\"M 0 0 M2182.29 204.589 L2189.93 204.589 L2189.93 178.223 L2181.62 179.89 L2181.62 175.631 L2189.89 173.964 L2194.56 173.964 L2194.56 204.589 L2202.2 204.589 L2202.2 208.524 L2182.29 208.524 L2182.29 204.589 Z\" fill=\"#000000\" fill-rule=\"evenodd\" fill-opacity=\"1\" /><path clip-path=\"url(#clip190)\" d=\"M 0 0 M2206 172.552 L2209.7 172.552 Q2213.17 178.015 2214.89 183.246 Q2216.62 188.478 2216.62 193.64 Q2216.62 198.825 2214.89 204.08 Q2213.17 209.334 2209.7 214.774 L2206 214.774 Q2209.08 209.473 2210.58 204.242 Q2212.11 198.987 2212.11 193.64 Q2212.11 188.293 2210.58 183.084 Q2209.08 177.876 2206 172.552 Z\" fill=\"#000000\" fill-rule=\"evenodd\" fill-opacity=\"1\" /><polyline clip-path=\"url(#clip190)\" style=\"stroke:#e26f46; stroke-width:4; stroke-opacity:1; fill:none\" points=\"\n",
       "  1794.34,251.724 1938.34,251.724 \n",
       "  \"/>\n",
       "<path clip-path=\"url(#clip190)\" d=\"M 0 0 M1987.9 264.074 L1987.9 254.791 L1980.26 254.791 L1980.26 250.949 L1992.53 250.949 L1992.53 265.787 Q1989.82 267.708 1986.55 268.703 Q1983.29 269.675 1979.59 269.675 Q1971.48 269.675 1966.9 264.953 Q1962.34 260.208 1962.34 251.759 Q1962.34 243.287 1966.9 238.564 Q1971.48 233.819 1979.59 233.819 Q1982.97 233.819 1986 234.652 Q1989.05 235.486 1991.62 237.106 L1991.62 242.083 Q1989.03 239.884 1986.11 238.773 Q1983.2 237.662 1979.98 237.662 Q1973.64 237.662 1970.44 241.203 Q1967.27 244.745 1967.27 251.759 Q1967.27 258.75 1970.44 262.291 Q1973.64 265.833 1979.98 265.833 Q1982.46 265.833 1984.4 265.416 Q1986.35 264.976 1987.9 264.074 Z\" fill=\"#000000\" fill-rule=\"evenodd\" fill-opacity=\"1\" /><path clip-path=\"url(#clip190)\" d=\"M 0 0 M2008.78 255.972 Q2003.61 255.972 2001.62 257.152 Q1999.63 258.333 1999.63 261.18 Q1999.63 263.449 2001.11 264.791 Q2002.62 266.111 2005.19 266.111 Q2008.73 266.111 2010.86 263.611 Q2013.01 261.087 2013.01 256.921 L2013.01 255.972 L2008.78 255.972 M2017.27 254.213 L2017.27 269.004 L2013.01 269.004 L2013.01 265.069 Q2011.55 267.43 2009.38 268.564 Q2007.2 269.675 2004.05 269.675 Q2000.07 269.675 1997.71 267.453 Q1995.37 265.208 1995.37 261.458 Q1995.37 257.083 1998.29 254.861 Q2001.23 252.638 2007.04 252.638 L2013.01 252.638 L2013.01 252.222 Q2013.01 249.282 2011.07 247.685 Q2009.15 246.064 2005.65 246.064 Q2003.43 246.064 2001.32 246.597 Q1999.22 247.129 1997.27 248.194 L1997.27 244.259 Q1999.61 243.356 2001.81 242.916 Q2004.01 242.453 2006.09 242.453 Q2011.72 242.453 2014.49 245.37 Q2017.27 248.287 2017.27 254.213 Z\" fill=\"#000000\" fill-rule=\"evenodd\" fill-opacity=\"1\" /><path clip-path=\"url(#clip190)\" d=\"M 0 0 M2041.92 248.055 Q2043.52 245.185 2045.74 243.819 Q2047.97 242.453 2050.97 242.453 Q2055.03 242.453 2057.22 245.301 Q2059.42 248.125 2059.42 253.356 L2059.42 269.004 L2055.14 269.004 L2055.14 253.495 Q2055.14 249.768 2053.82 247.963 Q2052.5 246.157 2049.79 246.157 Q2046.48 246.157 2044.56 248.356 Q2042.64 250.555 2042.64 254.351 L2042.64 269.004 L2038.36 269.004 L2038.36 253.495 Q2038.36 249.745 2037.04 247.963 Q2035.72 246.157 2032.97 246.157 Q2029.7 246.157 2027.78 248.379 Q2025.86 250.578 2025.86 254.351 L2025.86 269.004 L2021.58 269.004 L2021.58 243.078 L2025.86 243.078 L2025.86 247.106 Q2027.32 244.722 2029.35 243.588 Q2031.39 242.453 2034.19 242.453 Q2037.02 242.453 2038.98 243.888 Q2040.97 245.324 2041.92 248.055 Z\" fill=\"#000000\" fill-rule=\"evenodd\" fill-opacity=\"1\" /><path clip-path=\"url(#clip190)\" d=\"M 0 0 M2084.08 248.055 Q2085.67 245.185 2087.9 243.819 Q2090.12 242.453 2093.13 242.453 Q2097.18 242.453 2099.38 245.301 Q2101.58 248.125 2101.58 253.356 L2101.58 269.004 L2097.29 269.004 L2097.29 253.495 Q2097.29 249.768 2095.97 247.963 Q2094.65 246.157 2091.95 246.157 Q2088.64 246.157 2086.72 248.356 Q2084.79 250.555 2084.79 254.351 L2084.79 269.004 L2080.51 269.004 L2080.51 253.495 Q2080.51 249.745 2079.19 247.963 Q2077.87 246.157 2075.12 246.157 Q2071.85 246.157 2069.93 248.379 Q2068.01 250.578 2068.01 254.351 L2068.01 269.004 L2063.73 269.004 L2063.73 243.078 L2068.01 243.078 L2068.01 247.106 Q2069.47 244.722 2071.51 243.588 Q2073.54 242.453 2076.34 242.453 Q2079.17 242.453 2081.14 243.888 Q2083.13 245.324 2084.08 248.055 Z\" fill=\"#000000\" fill-rule=\"evenodd\" fill-opacity=\"1\" /><path clip-path=\"url(#clip190)\" d=\"M 0 0 M2117.83 255.972 Q2112.66 255.972 2110.67 257.152 Q2108.68 258.333 2108.68 261.18 Q2108.68 263.449 2110.16 264.791 Q2111.67 266.111 2114.24 266.111 Q2117.78 266.111 2119.91 263.611 Q2122.06 261.087 2122.06 256.921 L2122.06 255.972 L2117.83 255.972 M2126.32 254.213 L2126.32 269.004 L2122.06 269.004 L2122.06 265.069 Q2120.6 267.43 2118.43 268.564 Q2116.25 269.675 2113.1 269.675 Q2109.12 269.675 2106.76 267.453 Q2104.42 265.208 2104.42 261.458 Q2104.42 257.083 2107.34 254.861 Q2110.28 252.638 2116.09 252.638 L2122.06 252.638 L2122.06 252.222 Q2122.06 249.282 2120.12 247.685 Q2118.2 246.064 2114.7 246.064 Q2112.48 246.064 2110.37 246.597 Q2108.27 247.129 2106.32 248.194 L2106.32 244.259 Q2108.66 243.356 2110.86 242.916 Q2113.06 242.453 2115.14 242.453 Q2120.77 242.453 2123.54 245.37 Q2126.32 248.287 2126.32 254.213 Z\" fill=\"#000000\" fill-rule=\"evenodd\" fill-opacity=\"1\" /><path clip-path=\"url(#clip190)\" d=\"M 0 0 M2141.02 233.032 Q2137.92 238.356 2136.41 243.564 Q2134.91 248.773 2134.91 254.12 Q2134.91 259.467 2136.41 264.722 Q2137.94 269.953 2141.02 275.254 L2137.32 275.254 Q2133.84 269.814 2132.11 264.56 Q2130.4 259.305 2130.4 254.12 Q2130.4 248.958 2132.11 243.726 Q2133.82 238.495 2137.32 233.032 L2141.02 233.032 Z\" fill=\"#000000\" fill-rule=\"evenodd\" fill-opacity=\"1\" /><path clip-path=\"url(#clip190)\" d=\"M 0 0 M2146.14 234.444 L2164.49 234.444 L2164.49 238.379 L2150.42 238.379 L2150.42 246.851 Q2151.44 246.504 2152.46 246.342 Q2153.47 246.157 2154.49 246.157 Q2160.28 246.157 2163.66 249.328 Q2167.04 252.5 2167.04 257.916 Q2167.04 263.495 2163.57 266.597 Q2160.09 269.675 2153.77 269.675 Q2151.6 269.675 2149.33 269.305 Q2147.09 268.935 2144.68 268.194 L2144.68 263.495 Q2146.76 264.629 2148.98 265.185 Q2151.21 265.74 2153.68 265.74 Q2157.69 265.74 2160.02 263.634 Q2162.36 261.527 2162.36 257.916 Q2162.36 254.305 2160.02 252.199 Q2157.69 250.092 2153.68 250.092 Q2151.81 250.092 2149.93 250.509 Q2148.08 250.925 2146.14 251.805 L2146.14 234.444 Z\" fill=\"#000000\" fill-rule=\"evenodd\" fill-opacity=\"1\" /><path clip-path=\"url(#clip190)\" d=\"M 0 0 M2172.59 263.124 L2177.48 263.124 L2177.48 267.106 L2173.68 274.513 L2170.7 274.513 L2172.59 267.106 L2172.59 263.124 Z\" fill=\"#000000\" fill-rule=\"evenodd\" fill-opacity=\"1\" /><path clip-path=\"url(#clip190)\" d=\"M 0 0 M2198.43 265.069 L2206.07 265.069 L2206.07 238.703 L2197.76 240.37 L2197.76 236.111 L2206.02 234.444 L2210.7 234.444 L2210.7 265.069 L2218.33 265.069 L2218.33 269.004 L2198.43 269.004 L2198.43 265.069 Z\" fill=\"#000000\" fill-rule=\"evenodd\" fill-opacity=\"1\" /><path clip-path=\"url(#clip190)\" d=\"M 0 0 M2222.13 233.032 L2225.83 233.032 Q2229.31 238.495 2231.02 243.726 Q2232.76 248.958 2232.76 254.12 Q2232.76 259.305 2231.02 264.56 Q2229.31 269.814 2225.83 275.254 L2222.13 275.254 Q2225.21 269.953 2226.71 264.722 Q2228.24 259.467 2228.24 254.12 Q2228.24 248.773 2226.71 243.564 Q2225.21 238.356 2222.13 233.032 Z\" fill=\"#000000\" fill-rule=\"evenodd\" fill-opacity=\"1\" /></svg>\n"
      ]
     },
     "execution_count": 18,
     "metadata": {},
     "output_type": "execute_result"
    }
   ],
   "source": [
    "import Pkg\n",
    "Pkg.add(\"Distributions\")\n",
    "Pkg.add(\"StatsPlots\")\n",
    "\n",
    "using Distributions, StatsPlots\n",
    "plot(Normal(), label = \"Normal(0, 1)\")\n",
    "\n",
    "#-\n",
    "\n",
    "plot!(Gamma(5, 1), label = \"Gamma(5, 1)\")"
   ]
  },
  {
   "cell_type": "markdown",
   "metadata": {},
   "source": [
    "The package defines a number of functions that together create a consistent \"grammar\" for discussing distributions:\n",
    "\n",
    "- Probability density function: `pdf`\n",
    "- Cumulative distribution function: `cdf`\n",
    "- The inverse cumulative distribution function with the standard `quantile` statistical function\n",
    "- etc."
   ]
  },
  {
   "cell_type": "code",
   "execution_count": 21,
   "metadata": {},
   "outputs": [
    {
     "data": {
      "text/plain": [
       "(0.0, 0.0, 5.0, 5.0, 4.670908882795984, 4.0)"
      ]
     },
     "execution_count": 21,
     "metadata": {},
     "output_type": "execute_result"
    }
   ],
   "source": [
    "d = Normal()\n",
    "\n",
    "pdf(d, 0), cdf(d, 0), mean(d), var(d), quantile(d, .5), mode(d)\n",
    "\n",
    "#-\n",
    "\n",
    "d = Gamma(5, 1)\n",
    "\n",
    "pdf(d, 0), cdf(d, 0), mean(d), var(d), quantile(d, .5), mode(d)"
   ]
  },
  {
   "cell_type": "markdown",
   "metadata": {},
   "source": [
    "As an example, let's write a function that uses [Newton's Method](https://en.wikipedia.org/wiki/Newton%27s_method) that can find a given quantile for any continuous univariate distribution.  Newton's method attempts to find the root for a function $f$ by performing iterations of the form:\n",
    "\n",
    "$$\\theta^{(t)} = \\theta^{(t-1)} - \\frac{f(\\theta^{(t-1)})}{f'(\\theta^{(t-1)})}.$$\n",
    "\n",
    "For quantiles, we want to find the root of the function $F(\\theta) - q$ where $F$ is the cumulative density function of the distribtuion and $q \\in (0, 1)$.  Using **`Distributions`**, this looks something like"
   ]
  },
  {
   "cell_type": "code",
   "execution_count": 22,
   "metadata": {},
   "outputs": [
    {
     "data": {
      "text/plain": [
       "myquantile (generic function with 1 method)"
      ]
     },
     "execution_count": 22,
     "metadata": {},
     "output_type": "execute_result"
    }
   ],
   "source": [
    "function myquantile(d::Distribution, q::Number)\n",
    "    θ = mean(d)\n",
    "    for i in 1:20\n",
    "        θ -= (cdf(d, θ) - q) / pdf(d, θ)  # θ = θ - (F(θ) - q) / F'(θ)\n",
    "    end\n",
    "    θ\n",
    "end"
   ]
  },
  {
   "cell_type": "code",
   "execution_count": null,
   "metadata": {},
   "outputs": [],
   "source": [
    "Does our `myquantile` function work as expected?  Let's try out our function on several distributions."
   ]
  },
  {
   "cell_type": "code",
   "execution_count": 23,
   "metadata": {},
   "outputs": [
    {
     "data": {
      "text/plain": [
       "(0.0, 0.0)"
      ]
     },
     "execution_count": 23,
     "metadata": {},
     "output_type": "execute_result"
    }
   ],
   "source": [
    "d = Normal()\n",
    "myquantile(d, .5), quantile(d, .5)"
   ]
  },
  {
   "cell_type": "code",
   "execution_count": 24,
   "metadata": {},
   "outputs": [
    {
     "data": {
      "text/plain": [
       "(14.28668728960775, 14.28668728960775)"
      ]
     },
     "execution_count": 24,
     "metadata": {},
     "output_type": "execute_result"
    }
   ],
   "source": [
    "d = Gamma(4,3)\n",
    "myquantile(d, .7), quantile(d, .7)"
   ]
  },
  {
   "cell_type": "markdown",
   "metadata": {},
   "source": [
    "The above example shows off the power of generic functions.  Instead of hard-coding the distribution (as would be necessary in R), we can write functions in terms of an arbitrary distribution (without extra effort).  This gives us a lot of flexibility for tasks such as writing [Gibbs Samplers](https://en.wikipedia.org/wiki/Gibbs_sampling) that can swap out distributions with ease."
   ]
  }
 ],
 "metadata": {
  "kernelspec": {
   "display_name": "Julia 1.4.1",
   "language": "julia",
   "name": "julia-1.4"
  },
  "language_info": {
   "file_extension": ".jl",
   "mimetype": "application/julia",
   "name": "julia",
   "version": "1.4.1"
  }
 },
 "nbformat": 4,
 "nbformat_minor": 4
}
