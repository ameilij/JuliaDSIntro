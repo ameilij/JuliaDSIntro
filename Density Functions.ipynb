{
 "cells": [
  {
   "cell_type": "markdown",
   "metadata": {},
   "source": [
    "# Density Estimation\n",
    "\n",
    "Understanding the shape of your data is important for any data analysis.\n",
    " \n",
    "- Do you have continuous data? Categorical data? Both?  \n",
    "- Are variables correlated?\n",
    "- What insights can you gain from univariate and bivariate data summaries?\n",
    "\n",
    "There are many ways to estimate and visualize the distribution of data.  In this module, we'll cover: TODO\n",
    "\n",
    "## Empirical Density Estimation\n",
    "\n",
    "### Empirical Cumulative Density Function (ECDF)\n",
    "\n",
    "The **`StatsBase`** package provides the `ecdf` function, which returns a function that can calculate the ECDF evaluated at a point, defined as $$f_{\\text{ECDF}}(x) = \\frac{\\text{# values less than or equal to x}}{\\text{total # values}}.$$\n",
    "\n",
    "In other words, the number returned by the ECDF is the probability that a random sample from the dataset is less than or equal to the argument."
   ]
  },
  {
   "cell_type": "code",
   "execution_count": 1,
   "metadata": {},
   "outputs": [
    {
     "ename": "ErrorException",
     "evalue": "Cannot convert ECDF{UnitRange{Int64},Weights{Float64,Float64,Array{Float64,1}}} to series data for plotting",
     "output_type": "error",
     "traceback": [
      "Cannot convert ECDF{UnitRange{Int64},Weights{Float64,Float64,Array{Float64,1}}} to series data for plotting",
      "",
      "Stacktrace:",
      " [1] error(::String) at ./error.jl:33",
      " [2] _prepare_series_data(::ECDF{UnitRange{Int64},Weights{Float64,Float64,Array{Float64,1}}}) at /Users/ameilij/.julia/packages/RecipesPipeline/5b2IP/src/series.jl:8",
      " [3] _series_data_vector(::ECDF{UnitRange{Int64},Weights{Float64,Float64,Array{Float64,1}}}, ::Dict{Symbol,Any}) at /Users/ameilij/.julia/packages/RecipesPipeline/5b2IP/src/series.jl:27",
      " [4] macro expansion at /Users/ameilij/.julia/packages/RecipesPipeline/5b2IP/src/series.jl:138 [inlined]",
      " [5] apply_recipe(::Dict{Symbol,Any}, ::Type{RecipesPipeline.SliceIt}, ::ECDF{UnitRange{Int64},Weights{Float64,Float64,Array{Float64,1}}}, ::Int64, ::Int64) at /Users/ameilij/.julia/packages/RecipesBase/jcXIg/src/RecipesBase.jl:281",
      " [6] _process_userrecipes!(::Plots.Plot{Plots.GRBackend}, ::Dict{Symbol,Any}, ::Tuple{ECDF{UnitRange{Int64},Weights{Float64,Float64,Array{Float64,1}}},Int64,Int64}) at /Users/ameilij/.julia/packages/RecipesPipeline/5b2IP/src/user_recipe.jl:35",
      " [7] recipe_pipeline!(::Plots.Plot{Plots.GRBackend}, ::Dict{Symbol,Any}, ::Tuple{ECDF{UnitRange{Int64},Weights{Float64,Float64,Array{Float64,1}}},Int64,Int64}) at /Users/ameilij/.julia/packages/RecipesPipeline/5b2IP/src/RecipesPipeline.jl:68",
      " [8] _plot!(::Plots.Plot{Plots.GRBackend}, ::Dict{Symbol,Any}, ::Tuple{ECDF{UnitRange{Int64},Weights{Float64,Float64,Array{Float64,1}}},Int64,Int64}) at /Users/ameilij/.julia/packages/Plots/l9il6/src/plot.jl:167",
      " [9] #plot#124(::Base.Iterators.Pairs{Symbol,String,Tuple{Symbol,Symbol,Symbol},NamedTuple{(:label, :xlab, :ylab),Tuple{String,String,String}}}, ::Function, ::ECDF{UnitRange{Int64},Weights{Float64,Float64,Array{Float64,1}}}, ::Vararg{Any,N} where N) at /Users/ameilij/.julia/packages/Plots/l9il6/src/plot.jl:57",
      " [10] (::getfield(RecipesBase, Symbol(\"#kw##plot\")))(::NamedTuple{(:label, :xlab, :ylab),Tuple{String,String,String}}, ::typeof(plot), ::ECDF{UnitRange{Int64},Weights{Float64,Float64,Array{Float64,1}}}, ::Int64, ::Vararg{Int64,N} where N) at ./none:0",
      " [11] top-level scope at In[1]:4"
     ]
    }
   ],
   "source": [
    "using StatsBase, Plots\n",
    "y = 1:10\n",
    "f = ecdf(y)\n",
    "plot(f, 0, 11, label=\"\", xlab=\"x\", ylab = \"P(data <= x)\")"
   ]
  },
  {
   "cell_type": "code",
   "execution_count": null,
   "metadata": {},
   "outputs": [],
   "source": []
  },
  {
   "cell_type": "code",
   "execution_count": null,
   "metadata": {},
   "outputs": [],
   "source": []
  }
 ],
 "metadata": {
  "kernelspec": {
   "display_name": "Julia 1.0.5",
   "language": "julia",
   "name": "julia-1.0"
  },
  "language_info": {
   "file_extension": ".jl",
   "mimetype": "application/julia",
   "name": "julia",
   "version": "1.0.5"
  }
 },
 "nbformat": 4,
 "nbformat_minor": 2
}
